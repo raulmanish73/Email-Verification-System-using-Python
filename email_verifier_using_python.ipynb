{
  "nbformat": 4,
  "nbformat_minor": 0,
  "metadata": {
    "colab": {
      "name": "Email Verifier.ipynb",
      "provenance": [],
      "collapsed_sections": []
    },
    "kernelspec": {
      "name": "python3",
      "display_name": "Python 3"
    },
    "language_info": {
      "name": "python"
    }
  },
  "cells": [
    {
      "cell_type": "code",
      "source": [
        "from google.colab import drive\n",
        "drive.mount('/content/drive')"
      ],
      "metadata": {
        "colab": {
          "base_uri": "https://localhost:8080/"
        },
        "id": "ne86CvGYJSF0",
        "outputId": "580a6638-4231-44d3-98b8-f3229231baf6"
      },
      "execution_count": 1,
      "outputs": [
        {
          "output_type": "stream",
          "name": "stdout",
          "text": [
            "Mounted at /content/drive\n"
          ]
        }
      ]
    },
    {
      "cell_type": "code",
      "source": [
        "!pip install aiodns"
      ],
      "metadata": {
        "colab": {
          "base_uri": "https://localhost:8080/"
        },
        "id": "bixDINXKJ-CB",
        "outputId": "95131d52-ce99-4abf-d093-2749acbee5fb"
      },
      "execution_count": 2,
      "outputs": [
        {
          "output_type": "stream",
          "name": "stdout",
          "text": [
            "Collecting aiodns\n",
            "  Downloading aiodns-3.0.0-py3-none-any.whl (5.0 kB)\n",
            "Collecting pycares>=4.0.0\n",
            "  Downloading pycares-4.1.2-cp37-cp37m-manylinux_2_5_x86_64.manylinux1_x86_64.manylinux_2_12_x86_64.manylinux2010_x86_64.whl (291 kB)\n",
            "\u001b[K     |████████████████████████████████| 291 kB 5.1 MB/s \n",
            "\u001b[?25hRequirement already satisfied: cffi>=1.5.0 in /usr/local/lib/python3.7/dist-packages (from pycares>=4.0.0->aiodns) (1.15.0)\n",
            "Requirement already satisfied: pycparser in /usr/local/lib/python3.7/dist-packages (from cffi>=1.5.0->pycares>=4.0.0->aiodns) (2.21)\n",
            "Installing collected packages: pycares, aiodns\n",
            "Successfully installed aiodns-3.0.0 pycares-4.1.2\n"
          ]
        }
      ]
    },
    {
      "cell_type": "code",
      "source": [
        "!pip install verify_email"
      ],
      "metadata": {
        "colab": {
          "base_uri": "https://localhost:8080/"
        },
        "id": "wkJFlp5hKzJ3",
        "outputId": "43b03f84-fd3e-4af0-b90c-75fdb3d1629e"
      },
      "execution_count": 3,
      "outputs": [
        {
          "output_type": "stream",
          "name": "stdout",
          "text": [
            "Collecting verify_email\n",
            "  Downloading verify_email-2.4.3-py3-none-any.whl (5.9 kB)\n",
            "Collecting aiosmtpd\n",
            "  Downloading aiosmtpd-1.4.2-py3-none-any.whl (143 kB)\n",
            "\u001b[K     |████████████████████████████████| 143 kB 5.0 MB/s \n",
            "\u001b[?25hRequirement already satisfied: aiodns in /usr/local/lib/python3.7/dist-packages (from verify_email) (3.0.0)\n",
            "Requirement already satisfied: pycares>=4.0.0 in /usr/local/lib/python3.7/dist-packages (from aiodns->verify_email) (4.1.2)\n",
            "Requirement already satisfied: cffi>=1.5.0 in /usr/local/lib/python3.7/dist-packages (from pycares>=4.0.0->aiodns->verify_email) (1.15.0)\n",
            "Requirement already satisfied: pycparser in /usr/local/lib/python3.7/dist-packages (from cffi>=1.5.0->pycares>=4.0.0->aiodns->verify_email) (2.21)\n",
            "Collecting atpublic\n",
            "  Downloading atpublic-3.0.1-py3-none-any.whl (4.8 kB)\n",
            "Requirement already satisfied: typing-extensions in /usr/local/lib/python3.7/dist-packages (from aiosmtpd->verify_email) (4.1.1)\n",
            "Requirement already satisfied: attrs in /usr/local/lib/python3.7/dist-packages (from aiosmtpd->verify_email) (21.4.0)\n",
            "Installing collected packages: atpublic, aiosmtpd, verify-email\n",
            "Successfully installed aiosmtpd-1.4.2 atpublic-3.0.1 verify-email-2.4.3\n"
          ]
        }
      ]
    },
    {
      "cell_type": "code",
      "execution_count": 4,
      "metadata": {
        "id": "cIc3kfZCVk97"
      },
      "outputs": [],
      "source": [
        "import asyncio\n",
        "import aiodns\n",
        "import logging\n",
        "import re\n",
        "import smtplib\n",
        "import socket\n",
        "import threading\n",
        "import collections.abc as abc\n",
        "import sys\n",
        "\n",
        "EMAIL_REGEX = r'(^[a-zA-Z0-9_.+-]+@[a-zA-Z0-9-]+\\.[a-zA-Z0-9-.]+$)'\n",
        "MX_DNS_CACHE = {}\n",
        "MX_CHECK_CACHE = {}\n",
        "\n",
        "# Set up logging on module load and avoid adding 'ch' or 'logger' to module\n",
        "# namespace.  We could assign the logger to a module level name, but it is only\n",
        "# used by two functions, and this approach demonstrates using the 'logging'\n",
        "# namespace to retrieve arbitrary loggers.\n",
        "\n",
        "def setup_module_logger(name):\n",
        "    \"\"\"Set up module level logging with formatting\"\"\"\n",
        "    logger = logging.getLogger(name)\n",
        "    ch = logging.StreamHandler()\n",
        "    # Really should not be configuring formats in a library, see\n",
        "    # https://docs.python.org/3/howto/logging.html#configuring-logging-for-a-library\n",
        "    formatter = logging.Formatter(\n",
        "        '%(asctime)s - %(name)s - %(levelname)s - %(message)s'\n",
        "    )\n",
        "    ch.setFormatter(formatter)\n",
        "    logger.addHandler(ch)\n",
        "\n",
        "\n",
        "setup_module_logger('verify_email')\n",
        "\n",
        "\n",
        "def is_list(obj):\n",
        "    return isinstance(obj, abc.Sequence) and not isinstance(obj, str)\n",
        "\n",
        "async def get_mx_ip(hostname):\n",
        "    '''Get MX record by hostname.\n",
        "    '''\n",
        "    if hostname not in MX_DNS_CACHE:\n",
        "        try:\n",
        "            resolver = aiodns.DNSResolver()\n",
        "            MX_DNS_CACHE[hostname] = await  resolver.query(hostname, 'MX')\n",
        "        except aiodns.error.DNSError as e:\n",
        "            MX_DNS_CACHE[hostname] = None\n",
        "    return MX_DNS_CACHE[hostname]\n",
        "\n",
        "\n",
        "async def get_mx_hosts(email):\n",
        "    '''Caching the result in MX_DNS_CACHE to improve performance.\n",
        "    '''\n",
        "    hostname = email[email.find('@') + 1:]\n",
        "    if hostname in MX_DNS_CACHE:\n",
        "        mx_hosts = MX_DNS_CACHE[hostname]\n",
        "    else:\n",
        "        mx_hosts = await get_mx_ip(hostname)\n",
        "    return mx_hosts\n",
        "\n",
        "\n",
        "\n",
        "async def handler_verify(mx_hosts, email, timeout=None):\n",
        "    for mx in mx_hosts:\n",
        "        res = await network_calls(mx, email, timeout)\n",
        "        if res:\n",
        "            return res\n",
        "        return False\n",
        "\n",
        "\n",
        "async def syntax_check(email):\n",
        "    if re.match(EMAIL_REGEX, email):\n",
        "        return True\n",
        "    return False\n",
        "\n",
        "\n",
        "async def _verify_email(email, timeout=None, verify=True):\n",
        "    '''Validate email by syntax check, domain check and handler check.\n",
        "    '''\n",
        "    is_valid_syntax = await syntax_check(email)\n",
        "    if is_valid_syntax:\n",
        "        if verify:\n",
        "            mx_hosts = await get_mx_hosts(email)\n",
        "            if mx_hosts is None:\n",
        "                return False\n",
        "            else:\n",
        "                return await handler_verify(mx_hosts, email, timeout)\n",
        "    else:\n",
        "        return False\n",
        "\n",
        "def verify_email(emails, timeout=None, verify=True, debug=False):\n",
        "    if debug:\n",
        "        logger = logging.getLogger('verify_email')\n",
        "        logger.setLevel(logging.DEBUG)\n",
        "    result = []\n",
        "    if not is_list(emails):\n",
        "        emails = [emails]\n",
        "\n",
        "    # asyncio events doesn't fully support windows platform\n",
        "    # See: https://github.com/kakshay21/verify_email/issues/34#issuecomment-616971628\n",
        "    if sys.platform == \"win32\":\n",
        "        asyncio.set_event_loop_policy(asyncio.WindowsSelectorEventLoopPolicy())\n",
        "    loop = asyncio.get_event_loop()\n",
        "\n",
        "    for email in emails:\n",
        "        resp = loop.run_until_complete(_verify_email(email, timeout, verify))\n",
        "        result.append(resp)\n",
        "\n",
        "    return result if len(result) > 1 else result[0]\n",
        "\n",
        "async def verify_email_async(emails, timeout=None, verify=True, debug=False):\n",
        "    if debug:\n",
        "        logger = logging.getLogger('verify_email')\n",
        "        logger.setLevel(logging.DEBUG)\n",
        "    result = []\n",
        "    if not is_list(emails):\n",
        "        emails = [emails]\n",
        "\n",
        "\n",
        "    for email in emails:\n",
        "        result.append(await _verify_email(email, timeout, verify))\n",
        "\n",
        "    return result if len(result) > 1 else result[0]\n",
        "\n",
        "async def network_calls(mx, email, timeout=20):\n",
        "    logger = logging.getLogger('verify_email')\n",
        "    result = False\n",
        "    try:\n",
        "        smtp = smtplib.SMTP(mx.host, timeout=timeout)\n",
        "        status, _ = smtp.ehlo()\n",
        "        if status >= 400:\n",
        "            smtp.quit()\n",
        "            logger.debug(f'{mx} answer: {status} - {_}\\n')\n",
        "            return False\n",
        "        smtp.mail('')\n",
        "        status, _ = smtp.rcpt(email)\n",
        "        if status >= 400:\n",
        "            logger.debug(f'{mx} answer: {status} - {_}\\n')\n",
        "            result = False\n",
        "        if status >= 200 and status <= 250:\n",
        "            result = True\n",
        "\n",
        "        logger.debug(f'{mx} answer: {status} - {_}\\n')\n",
        "        smtp.quit()\n",
        "\n",
        "    except smtplib.SMTPServerDisconnected:\n",
        "        logger.debug(f'Server does not permit verify user, {mx} disconnected.\\n')\n",
        "    except smtplib.SMTPConnectError:\n",
        "        logger.debug(f'Unable to connect to {mx}.\\n')\n",
        "    except socket.timeout as e:\n",
        "        logger.debug(f'Timeout connecting to server {mx}: {e}.\\n')\n",
        "        return None\n",
        "    except socket.error as e:\n",
        "        logger.debug(f'ServerError or socket.error exception raised {e}.\\n')\n",
        "        return None\n",
        "\n",
        "    return result"
      ]
    },
    {
      "cell_type": "code",
      "source": [
        "from datetime import datetime\n",
        "from verify_email import verify_email\n",
        "import nest_asyncio\n",
        "nest_asyncio.apply()\n",
        "import multiprocessing\n",
        "from pandas import *\n",
        "import pandas as pd\n",
        "import csv\n",
        "\n",
        "input_file = '/content/drive/MyDrive/Data Science by OneLearn/Beginner Python for Data Science/Module Project 2 - Email Automation Project/email verifier sample sheet.csv'\n",
        "data = read_csv(input_file)\n",
        "emails = data[\"email\"].tolist()\n",
        "\n",
        "#[\"manish@truscholar.io\", \"anuragband10@gmail.com\", \"foo@bar.com\", \"ex@example.com\"]  # add emails\n",
        "b = datetime.now()\n",
        "\n",
        "\n",
        "\n",
        "def validate(email):\n",
        "    #a = datetime.now()\n",
        "    value = verify_email(email)\n",
        "\n",
        "    #delta = datetime.now() - a\n",
        "    #print(value, email, (delta.microseconds + delta.microseconds/1E6))\n",
        "    return str(value)\n",
        "\n",
        "status =[]\n",
        "for email in emails:\n",
        "  v = validate(email)\n",
        "  status.append(v)\n",
        "\n",
        "\n",
        "pool = multiprocessing.Pool()\n",
        "result = pool.map(validate, emails)\n",
        "#delta = datetime.now() - b\n",
        "#print(delta.total_seconds())\n",
        "\n"
      ],
      "metadata": {
        "id": "-HSrON-q75iy"
      },
      "execution_count": 6,
      "outputs": []
    },
    {
      "cell_type": "code",
      "source": [
        "status_dic = {'email': emails ,'status': status}\n",
        "\n",
        "df= pd.DataFrame(status_dic)\n",
        "#pd.to_csv('/content/drive/MyDrive/email validate output.csv')\n",
        "df.to_excel('/content/drive/MyDrive/new output.xlsx', index = False)"
      ],
      "metadata": {
        "id": "bPz_i1_kNRy7"
      },
      "execution_count": 7,
      "outputs": []
    },
    {
      "cell_type": "code",
      "source": [
        "import pandas as pd\n",
        "\n",
        "status_dic = {'email': emails ,'status': status}\n",
        "\n",
        "df= pd.DataFrame(status_dic)\n",
        "pd.read_csv('/content/drive/MyDrive/Data Science by OneLearn/Beginner Python for Data Science/Module Project 2 - Email Automation Project/new output.xlsx - Sheet1.csv')"
      ],
      "metadata": {
        "colab": {
          "base_uri": "https://localhost:8080/",
          "height": 424
        },
        "id": "ON4sc_P1Gv2U",
        "outputId": "8872906b-4288-422c-a5d8-f77d12e96f9c"
      },
      "execution_count": 10,
      "outputs": [
        {
          "output_type": "execute_result",
          "data": {
            "text/plain": [
              "                         email  status\n",
              "0       kkaggarwal48@gmail.com    True\n",
              "1            mssnaac@gmail.com    True\n",
              "2           sgoffice@aiu.ac.in    True\n",
              "3      chairmantsche@gmail.com    True\n",
              "4   aenugumallareddy@gmail.com    True\n",
              "..                         ...     ...\n",
              "78          vpaa.office@aue.ae    True\n",
              "79            chris@spjain.org    True\n",
              "80           anand@cbfs.edu.om    True\n",
              "81       djamali@sharjah.ac.ae    True\n",
              "82         mkakhtar@kau.edu.sa    True\n",
              "\n",
              "[83 rows x 2 columns]"
            ],
            "text/html": [
              "\n",
              "  <div id=\"df-3003ce17-241f-4bb0-acd2-c6f6a6a67984\">\n",
              "    <div class=\"colab-df-container\">\n",
              "      <div>\n",
              "<style scoped>\n",
              "    .dataframe tbody tr th:only-of-type {\n",
              "        vertical-align: middle;\n",
              "    }\n",
              "\n",
              "    .dataframe tbody tr th {\n",
              "        vertical-align: top;\n",
              "    }\n",
              "\n",
              "    .dataframe thead th {\n",
              "        text-align: right;\n",
              "    }\n",
              "</style>\n",
              "<table border=\"1\" class=\"dataframe\">\n",
              "  <thead>\n",
              "    <tr style=\"text-align: right;\">\n",
              "      <th></th>\n",
              "      <th>email</th>\n",
              "      <th>status</th>\n",
              "    </tr>\n",
              "  </thead>\n",
              "  <tbody>\n",
              "    <tr>\n",
              "      <th>0</th>\n",
              "      <td>kkaggarwal48@gmail.com</td>\n",
              "      <td>True</td>\n",
              "    </tr>\n",
              "    <tr>\n",
              "      <th>1</th>\n",
              "      <td>mssnaac@gmail.com</td>\n",
              "      <td>True</td>\n",
              "    </tr>\n",
              "    <tr>\n",
              "      <th>2</th>\n",
              "      <td>sgoffice@aiu.ac.in</td>\n",
              "      <td>True</td>\n",
              "    </tr>\n",
              "    <tr>\n",
              "      <th>3</th>\n",
              "      <td>chairmantsche@gmail.com</td>\n",
              "      <td>True</td>\n",
              "    </tr>\n",
              "    <tr>\n",
              "      <th>4</th>\n",
              "      <td>aenugumallareddy@gmail.com</td>\n",
              "      <td>True</td>\n",
              "    </tr>\n",
              "    <tr>\n",
              "      <th>...</th>\n",
              "      <td>...</td>\n",
              "      <td>...</td>\n",
              "    </tr>\n",
              "    <tr>\n",
              "      <th>78</th>\n",
              "      <td>vpaa.office@aue.ae</td>\n",
              "      <td>True</td>\n",
              "    </tr>\n",
              "    <tr>\n",
              "      <th>79</th>\n",
              "      <td>chris@spjain.org</td>\n",
              "      <td>True</td>\n",
              "    </tr>\n",
              "    <tr>\n",
              "      <th>80</th>\n",
              "      <td>anand@cbfs.edu.om</td>\n",
              "      <td>True</td>\n",
              "    </tr>\n",
              "    <tr>\n",
              "      <th>81</th>\n",
              "      <td>djamali@sharjah.ac.ae</td>\n",
              "      <td>True</td>\n",
              "    </tr>\n",
              "    <tr>\n",
              "      <th>82</th>\n",
              "      <td>mkakhtar@kau.edu.sa</td>\n",
              "      <td>True</td>\n",
              "    </tr>\n",
              "  </tbody>\n",
              "</table>\n",
              "<p>83 rows × 2 columns</p>\n",
              "</div>\n",
              "      <button class=\"colab-df-convert\" onclick=\"convertToInteractive('df-3003ce17-241f-4bb0-acd2-c6f6a6a67984')\"\n",
              "              title=\"Convert this dataframe to an interactive table.\"\n",
              "              style=\"display:none;\">\n",
              "        \n",
              "  <svg xmlns=\"http://www.w3.org/2000/svg\" height=\"24px\"viewBox=\"0 0 24 24\"\n",
              "       width=\"24px\">\n",
              "    <path d=\"M0 0h24v24H0V0z\" fill=\"none\"/>\n",
              "    <path d=\"M18.56 5.44l.94 2.06.94-2.06 2.06-.94-2.06-.94-.94-2.06-.94 2.06-2.06.94zm-11 1L8.5 8.5l.94-2.06 2.06-.94-2.06-.94L8.5 2.5l-.94 2.06-2.06.94zm10 10l.94 2.06.94-2.06 2.06-.94-2.06-.94-.94-2.06-.94 2.06-2.06.94z\"/><path d=\"M17.41 7.96l-1.37-1.37c-.4-.4-.92-.59-1.43-.59-.52 0-1.04.2-1.43.59L10.3 9.45l-7.72 7.72c-.78.78-.78 2.05 0 2.83L4 21.41c.39.39.9.59 1.41.59.51 0 1.02-.2 1.41-.59l7.78-7.78 2.81-2.81c.8-.78.8-2.07 0-2.86zM5.41 20L4 18.59l7.72-7.72 1.47 1.35L5.41 20z\"/>\n",
              "  </svg>\n",
              "      </button>\n",
              "      \n",
              "  <style>\n",
              "    .colab-df-container {\n",
              "      display:flex;\n",
              "      flex-wrap:wrap;\n",
              "      gap: 12px;\n",
              "    }\n",
              "\n",
              "    .colab-df-convert {\n",
              "      background-color: #E8F0FE;\n",
              "      border: none;\n",
              "      border-radius: 50%;\n",
              "      cursor: pointer;\n",
              "      display: none;\n",
              "      fill: #1967D2;\n",
              "      height: 32px;\n",
              "      padding: 0 0 0 0;\n",
              "      width: 32px;\n",
              "    }\n",
              "\n",
              "    .colab-df-convert:hover {\n",
              "      background-color: #E2EBFA;\n",
              "      box-shadow: 0px 1px 2px rgba(60, 64, 67, 0.3), 0px 1px 3px 1px rgba(60, 64, 67, 0.15);\n",
              "      fill: #174EA6;\n",
              "    }\n",
              "\n",
              "    [theme=dark] .colab-df-convert {\n",
              "      background-color: #3B4455;\n",
              "      fill: #D2E3FC;\n",
              "    }\n",
              "\n",
              "    [theme=dark] .colab-df-convert:hover {\n",
              "      background-color: #434B5C;\n",
              "      box-shadow: 0px 1px 3px 1px rgba(0, 0, 0, 0.15);\n",
              "      filter: drop-shadow(0px 1px 2px rgba(0, 0, 0, 0.3));\n",
              "      fill: #FFFFFF;\n",
              "    }\n",
              "  </style>\n",
              "\n",
              "      <script>\n",
              "        const buttonEl =\n",
              "          document.querySelector('#df-3003ce17-241f-4bb0-acd2-c6f6a6a67984 button.colab-df-convert');\n",
              "        buttonEl.style.display =\n",
              "          google.colab.kernel.accessAllowed ? 'block' : 'none';\n",
              "\n",
              "        async function convertToInteractive(key) {\n",
              "          const element = document.querySelector('#df-3003ce17-241f-4bb0-acd2-c6f6a6a67984');\n",
              "          const dataTable =\n",
              "            await google.colab.kernel.invokeFunction('convertToInteractive',\n",
              "                                                     [key], {});\n",
              "          if (!dataTable) return;\n",
              "\n",
              "          const docLinkHtml = 'Like what you see? Visit the ' +\n",
              "            '<a target=\"_blank\" href=https://colab.research.google.com/notebooks/data_table.ipynb>data table notebook</a>'\n",
              "            + ' to learn more about interactive tables.';\n",
              "          element.innerHTML = '';\n",
              "          dataTable['output_type'] = 'display_data';\n",
              "          await google.colab.output.renderOutput(dataTable, element);\n",
              "          const docLink = document.createElement('div');\n",
              "          docLink.innerHTML = docLinkHtml;\n",
              "          element.appendChild(docLink);\n",
              "        }\n",
              "      </script>\n",
              "    </div>\n",
              "  </div>\n",
              "  "
            ]
          },
          "metadata": {},
          "execution_count": 10
        }
      ]
    },
    {
      "cell_type": "code",
      "source": [
        "a = True"
      ],
      "metadata": {
        "id": "XwKBkotIEr41"
      },
      "execution_count": 11,
      "outputs": []
    },
    {
      "cell_type": "code",
      "source": [
        "type(a)"
      ],
      "metadata": {
        "colab": {
          "base_uri": "https://localhost:8080/"
        },
        "id": "TgNFGDzCEuZ-",
        "outputId": "e5b8d7a5-0f5b-43b2-96ef-d28aaa94598e"
      },
      "execution_count": 12,
      "outputs": [
        {
          "output_type": "execute_result",
          "data": {
            "text/plain": [
              "bool"
            ]
          },
          "metadata": {},
          "execution_count": 12
        }
      ]
    },
    {
      "cell_type": "code",
      "source": [
        "str(a)"
      ],
      "metadata": {
        "colab": {
          "base_uri": "https://localhost:8080/",
          "height": 35
        },
        "id": "JPow8wWPEw7L",
        "outputId": "360b89d5-9392-4cd0-eb36-731eff2e805d"
      },
      "execution_count": 13,
      "outputs": [
        {
          "output_type": "execute_result",
          "data": {
            "text/plain": [
              "'True'"
            ],
            "application/vnd.google.colaboratory.intrinsic+json": {
              "type": "string"
            }
          },
          "metadata": {},
          "execution_count": 13
        }
      ]
    }
  ]
}